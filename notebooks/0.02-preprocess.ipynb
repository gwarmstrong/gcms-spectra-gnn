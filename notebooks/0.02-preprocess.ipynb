{
 "cells": [
  {
   "cell_type": "code",
   "execution_count": null,
   "metadata": {},
   "outputs": [],
   "source": [
    "import json\n",
    "from gcms_spectra_gnn.datasets import MoleculeJSONDataset\n",
    "from gcms_spectra_gnn.preprocess import Preprocessor\n",
    "from gcms_spectra_gnn.backend import JSONDirectoryBackend\n",
    "import numpy as np\n",
    "import os\n",
    "from functools import partial"
   ]
  },
  {
   "cell_type": "code",
   "execution_count": null,
   "metadata": {},
   "outputs": [],
   "source": [
    "mgf_json_file = '../../data/NIST_GC_EI_MAX_LIBRARY.json'"
   ]
  },
  {
   "cell_type": "code",
   "execution_count": null,
   "metadata": {},
   "outputs": [],
   "source": [
    "with open(mgf_json_file) as fh:\n",
    "    library = json.load(fh)"
   ]
  },
  {
   "cell_type": "code",
   "execution_count": null,
   "metadata": {},
   "outputs": [],
   "source": [
    "len(library)"
   ]
  },
  {
   "cell_type": "code",
   "execution_count": null,
   "metadata": {},
   "outputs": [],
   "source": [
    "# set up bakcend directory\n",
    "lib_path = '../../data/preprocessed_full_21-03-01'\n",
    "if not os.path.exists(lib_path):\n",
    "    os.makedirs(lib_path)\n",
    "\n",
    "lib_index = os.path.join(lib_path, 'index.json')\n",
    "if not os.path.exists(lib_index):\n",
    "    with open(lib_index, 'w') as fh:\n",
    "        json.dump(library, fh)"
   ]
  },
  {
   "cell_type": "code",
   "execution_count": null,
   "metadata": {},
   "outputs": [],
   "source": [
    "backend = JSONDirectoryBackend(lib_index)"
   ]
  },
  {
   "cell_type": "code",
   "execution_count": null,
   "metadata": {},
   "outputs": [],
   "source": [
    "prefix = ''\n",
    "\n",
    "BEGIN_IDX = 0\n",
    "END_IDX = len(library)\n",
    "\n",
    "def slicer(x):\n",
    "    return x[BEGIN_IDX:END_IDX]\n",
    "\n",
    "spectra = [[entry['M/Z'], entry['INTENSITY']] for entry in slicer(library) if 'SMILES' in entry]\n",
    "smiles = [entry['SMILES'] for entry in slicer(library) if 'SMILES' in entry]\n",
    "indices = [int(entry['SCANS']) for entry in slicer(library) if 'SMILES' in entry]\n",
    "\n",
    "preproc = Preprocessor(backend, add_h=True)\n",
    "\n",
    "FLUSH_FREQ = 10000\n",
    "def flush_hook(i, preprocessor, freq=FLUSH_FREQ):\n",
    "    if (i % freq == 0) and (i > 0):\n",
    "        print('flushing')\n",
    "        preprocessor.backend.flush()\n",
    "        print('length:', len(preprocessor.backend))\n",
    "\n",
    "preproc.transform(spectra, smiles, indices, hook=partial(flush_hook, freq=FLUSH_FREQ))\n",
    "backend.flush()"
   ]
  },
  {
   "cell_type": "code",
   "execution_count": null,
   "metadata": {},
   "outputs": [],
   "source": [
    "backend.flush()"
   ]
  }
 ],
 "metadata": {
  "kernelspec": {
   "display_name": "spectra-prediction-corm",
   "language": "python",
   "name": "spectra-prediction-corm"
  },
  "language_info": {
   "codemirror_mode": {
    "name": "ipython",
    "version": 3
   },
   "file_extension": ".py",
   "mimetype": "text/x-python",
   "name": "python",
   "nbconvert_exporter": "python",
   "pygments_lexer": "ipython3",
   "version": "3.8.6"
  }
 },
 "nbformat": 4,
 "nbformat_minor": 2
}
