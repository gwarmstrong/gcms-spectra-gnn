{
 "cells": [
  {
   "cell_type": "code",
   "execution_count": 1,
   "metadata": {},
   "outputs": [],
   "source": [
    "from gcms_spectra_gnn.spectra_dataset import MoleculesDataset\n",
    "from tqdm.notebook import tqdm\n",
    "import json"
   ]
  },
  {
   "cell_type": "code",
   "execution_count": 2,
   "metadata": {},
   "outputs": [],
   "source": [
    "mgf_file = 'data/NIST_GC_EI_MAX_LIBRARY.mgf'\n",
    "tsv_file = 'data/NIST_GC_EI_MAX_v2.tsv'\n",
    "mgf_json_file = 'data/NIST_GC_EI_MAX_LIBRARY.json'"
   ]
  },
  {
   "cell_type": "code",
   "execution_count": null,
   "metadata": {},
   "outputs": [],
   "source": [
    "with open(mgf_file) as fh:\n",
    "    library_lines = fh.read().splitlines()\n",
    "\n",
    "def parse_entry(entry):\n",
    "    separated = [value.split('=', 1) for value in entry]\n",
    "    i = 0\n",
    "    key_value = separated[i]\n",
    "    entries = dict()\n",
    "    m_z, intensity = [], []\n",
    "    while len(key_value) == 2:\n",
    "        key, value = key_value\n",
    "        entries[key] = value\n",
    "        i += 1\n",
    "        key_value = separated[i]\n",
    "    while i < len(separated):\n",
    "        key_value = separated[i]\n",
    "        key, value = key_value[0].split(' ')\n",
    "        m_z.append(float(key))\n",
    "        intensity.append(float(value))\n",
    "        i += 1\n",
    "    entries['M/Z'] = m_z\n",
    "    entries['INTENSITY'] = intensity\n",
    "    return entries\n",
    "\n",
    "ENTRY_START = 'BEGIN IONS'\n",
    "ENTRY_END = 'END IONS'\n",
    "\n",
    "library_entries = []\n",
    "current_entry = []\n",
    "i = 0\n",
    "pbar = tqdm(total=len(library_lines))\n",
    "while i < len(library_lines):\n",
    "    line = library_lines[i]\n",
    "    if line == ENTRY_START:\n",
    "        current_entry = []\n",
    "    elif line == ENTRY_END:\n",
    "        library_entries.append(parse_entry(current_entry))\n",
    "        current_entry = []\n",
    "    else:\n",
    "        current_entry.append(line)\n",
    "        \n",
    "    pbar.update()\n",
    "    i += 1\n",
    "\n",
    "with open(mgf_json_file, 'w') as fh:\n",
    "    json.dump(library_entries, fh)"
   ]
  },
  {
   "cell_type": "code",
   "execution_count": null,
   "metadata": {},
   "outputs": [],
   "source": []
  }
 ],
 "metadata": {
  "kernelspec": {
   "display_name": "spectra-prediction-corm",
   "language": "python",
   "name": "spectra-prediction-corm"
  },
  "language_info": {
   "codemirror_mode": {
    "name": "ipython",
    "version": 3
   },
   "file_extension": ".py",
   "mimetype": "text/x-python",
   "name": "python",
   "nbconvert_exporter": "python",
   "pygments_lexer": "ipython3",
   "version": "3.8.6"
  }
 },
 "nbformat": 4,
 "nbformat_minor": 2
}
