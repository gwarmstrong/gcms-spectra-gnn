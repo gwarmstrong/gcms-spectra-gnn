{
 "cells": [
  {
   "cell_type": "code",
   "execution_count": 1,
   "metadata": {},
   "outputs": [],
   "source": [
    "from gcms_spectra_gnn.spectra_dataset import MoleculeModel\n",
    "import json\n",
    "from torch.utils.data import DataLoader, Dataset\n",
    "import torch\n",
    "import os\n",
    "import numpy as np\n",
    "from scipy.sparse import coo_matrix"
   ]
  },
  {
   "cell_type": "code",
   "execution_count": 2,
   "metadata": {},
   "outputs": [
    {
     "name": "stderr",
     "output_type": "stream",
     "text": [
      "Using backend: pytorch\n"
     ]
    }
   ],
   "source": [
    "import dgl"
   ]
  },
  {
   "cell_type": "code",
   "execution_count": 3,
   "metadata": {},
   "outputs": [],
   "source": [
    "import networkx as nx"
   ]
  },
  {
   "cell_type": "code",
   "execution_count": 4,
   "metadata": {},
   "outputs": [],
   "source": [
    "library_path = 'data/preprocessed_micro/'"
   ]
  },
  {
   "cell_type": "code",
   "execution_count": 5,
   "metadata": {},
   "outputs": [],
   "source": [
    "with open(os.path.join(library_path, 'index.json')) as fh:\n",
    "    library_info = json.load(fh)"
   ]
  },
  {
   "cell_type": "code",
   "execution_count": 7,
   "metadata": {},
   "outputs": [],
   "source": [
    "library_info = [info for info in library_info if os.path.exists(library_path + info['FP_PATH'])]"
   ]
  },
  {
   "cell_type": "code",
   "execution_count": 8,
   "metadata": {},
   "outputs": [],
   "source": [
    "# apparently weird stuff happened where paths were saved but had no smiles...\n",
    "new_library_info = []\n",
    "for info in library_info:\n",
    "    try:\n",
    "        MoleculeModel.load(library_path + info['FP_PATH'])\n",
    "        new_library_info.append(info)\n",
    "    except KeyError:\n",
    "        continue\n",
    "library_info = new_library_info"
   ]
  },
  {
   "cell_type": "code",
   "execution_count": 9,
   "metadata": {},
   "outputs": [
    {
     "data": {
      "text/plain": [
       "98"
      ]
     },
     "execution_count": 9,
     "metadata": {},
     "output_type": "execute_result"
    }
   ],
   "source": [
    "len(library_info)"
   ]
  },
  {
   "cell_type": "code",
   "execution_count": 10,
   "metadata": {},
   "outputs": [],
   "source": [
    "class MoleculeJSONDataset(Dataset):\n",
    "    \n",
    "    def __init__(self, library, root_dir, graph_transform=None, label_transform=None):\n",
    "        self.library = [entry for entry in library if entry.get('FP_PATH')]\n",
    "        self.root_dir = root_dir\n",
    "        self.graph_transform = graph_transform\n",
    "        self.label_transform = label_transform\n",
    "        \n",
    "    def __len__(self):\n",
    "        return len(self.library)\n",
    "    \n",
    "    def __getitem__(self, idx):     \n",
    "        model = MoleculeModel.load(\n",
    "                os.path.join(self.root_dir, self.library[idx]['FP_PATH']))\n",
    "        if self.graph_transform:\n",
    "            X = self.graph_transform(model)\n",
    "        else:\n",
    "            X = model.to_safe_dict()\n",
    "        if self.label_transform:\n",
    "            y = self.label_transform(model)\n",
    "        else:\n",
    "            y = model.data\n",
    "            \n",
    "        return X, y\n",
    "        "
   ]
  },
  {
   "cell_type": "code",
   "execution_count": 11,
   "metadata": {},
   "outputs": [],
   "source": [
    "model = MoleculeModel.load(os.path.join(library_path, library_info[0]['FP_PATH']))"
   ]
  },
  {
   "cell_type": "code",
   "execution_count": 12,
   "metadata": {},
   "outputs": [],
   "source": [
    "# TODO what are reasonable min_ and max_ values?\n",
    "# Do we need to sum normalize or anything like that?\n",
    "def one_hot_spectrum_encoder(model, min_=20, max_=500):\n",
    "    \"\"\"\n",
    "    Parameters\n",
    "    ----------\n",
    "    min_ : int \n",
    "        Lowest allowed m/z. Values lower are excluded.\n",
    "    max_ : int\n",
    "        Highest allowed m/z. Values higher are excluded.\n",
    "        \n",
    "    Returns\n",
    "    -------\n",
    "    torch.tensor\n",
    "        Encoding of the spectrum\n",
    "        \n",
    "    \"\"\"\n",
    "    models = [model]\n",
    "    y = np.zeros([len(models), max_ - min_ + 1])\n",
    "    for n_mod, model in enumerate(models):\n",
    "        for i, idx in enumerate(model.data[0, :]):\n",
    "            idx = int(idx)\n",
    "            if ((idx >= min_) and (idx <= max_)):\n",
    "                y[n_mod, idx - min_] = model.data[1, i]\n",
    "    return torch.tensor(y)"
   ]
  },
  {
   "cell_type": "code",
   "execution_count": null,
   "metadata": {},
   "outputs": [],
   "source": []
  },
  {
   "cell_type": "code",
   "execution_count": 48,
   "metadata": {},
   "outputs": [],
   "source": [
    "# DEFAULT_ELEMENTS = ['H', 'C', 'N', 'O', 'F']\n",
    "DEFAULT_ELEMENTS = ['H', 'C', 'N', 'O', 'F', 'S', 'Cl', 'Br', 'I', 'P']\n",
    "\n",
    "def ohe_molecules(symbols, elements=None):\n",
    "    # TODO this might error if we get something not in elements\n",
    "    # Be more explicit about error check\n",
    "    if elements is None:\n",
    "        elements = DEFAULT_ELEMENTS\n",
    "    positions = np.zeros(len(symbols)).astype(int)\n",
    "    for i, atom in enumerate(symbols):\n",
    "        positions[i] = elements.index(atom)\n",
    "    ohe = np.zeros((len(symbols), len(elements)))\n",
    "    ohe[np.arange(len(positions)), positions] = 1\n",
    "    return torch.tensor(ohe)\n",
    "    "
   ]
  },
  {
   "cell_type": "code",
   "execution_count": 49,
   "metadata": {},
   "outputs": [
    {
     "data": {
      "text/plain": [
       "tensor([[1., 0., 0., 0., 0., 0., 0., 0., 0., 0.],\n",
       "        [0., 1., 0., 0., 0., 0., 0., 0., 0., 0.],\n",
       "        [0., 0., 0., 0., 0., 0., 0., 0., 1., 0.],\n",
       "        [0., 0., 0., 0., 0., 0., 0., 1., 0., 0.]], dtype=torch.float64)"
      ]
     },
     "execution_count": 49,
     "metadata": {},
     "output_type": "execute_result"
    }
   ],
   "source": [
    "ohe_molecules(['H', 'C', 'I', 'Br'])"
   ]
  },
  {
   "cell_type": "code",
   "execution_count": 63,
   "metadata": {},
   "outputs": [],
   "source": [
    "def basic_dgl_encoder(model):\n",
    "    G = dgl.from_scipy(coo_matrix(model.bonds))\n",
    "    # TODO figure out some features!\n",
    "    G.ndata['mol_ohe'] = ohe_molecules(model.symbols)\n",
    "    return G\n",
    "        "
   ]
  },
  {
   "cell_type": "code",
   "execution_count": 64,
   "metadata": {},
   "outputs": [],
   "source": [
    "G = basic_dgl_encoder(model)"
   ]
  },
  {
   "cell_type": "code",
   "execution_count": 65,
   "metadata": {},
   "outputs": [],
   "source": [
    "y = one_hot_spectrum_encoder(model)"
   ]
  },
  {
   "cell_type": "code",
   "execution_count": 67,
   "metadata": {},
   "outputs": [],
   "source": [
    "dataset = MoleculeJSONDataset(library_info, library_path,\n",
    "                              label_transform=one_hot_spectrum_encoder,\n",
    "                              graph_transform=basic_dgl_encoder,\n",
    "                              )"
   ]
  },
  {
   "cell_type": "code",
   "execution_count": 59,
   "metadata": {},
   "outputs": [
    {
     "name": "stdout",
     "output_type": "stream",
     "text": [
      "Net(\n",
      "  (layer1): GCNLayer(\n",
      "    (linear): Linear(in_features=10, out_features=16, bias=True)\n",
      "  )\n",
      "  (layer2): GCNLayer(\n",
      "    (linear): Linear(in_features=16, out_features=8, bias=True)\n",
      "  )\n",
      ")\n"
     ]
    }
   ],
   "source": [
    "import dgl\n",
    "import dgl.function as fn\n",
    "import torch as th\n",
    "import torch.nn as nn\n",
    "import torch.nn.functional as F\n",
    "from dgl import DGLGraph\n",
    "\n",
    "gcn_msg = fn.copy_src(src='h', out='m')\n",
    "gcn_reduce = fn.sum(msg='m', out='h')\n",
    "\n",
    "# copy pasta from dgl tutorial\n",
    "class GCNLayer(nn.Module):\n",
    "    def __init__(self, in_feats, out_feats):\n",
    "        super(GCNLayer, self).__init__()\n",
    "        self.linear = nn.Linear(in_feats, out_feats)\n",
    "\n",
    "    def forward(self, g, feature):\n",
    "        # Creating a local scope so that all the stored ndata and edata\n",
    "        # (such as the `'h'` ndata below) are automatically popped out\n",
    "        # when the scope exits.\n",
    "        with g.local_scope():\n",
    "            g.ndata['h'] = feature\n",
    "            g.update_all(gcn_msg, gcn_reduce)\n",
    "            h = g.ndata['h']\n",
    "            return self.linear(h)\n",
    "        \n",
    "class Net(nn.Module):\n",
    "    def __init__(self, input_features, output_features):\n",
    "        super(Net, self).__init__()\n",
    "        self.layer1 = GCNLayer(input_features, 16)\n",
    "        self.layer2 = GCNLayer(16, output_features)\n",
    "\n",
    "    def forward(self, g, features):\n",
    "        x = F.relu(self.layer1(g, features))\n",
    "        x = self.layer2(g, x)\n",
    "        return x\n",
    "\n",
    "net = Net(len(DEFAULT_ELEMENTS), 8)\n",
    "print(net)"
   ]
  },
  {
   "cell_type": "code",
   "execution_count": 70,
   "metadata": {},
   "outputs": [
    {
     "data": {
      "text/plain": [
       "tensor([[ 0.7396,  0.6208,  0.9945,  0.0070,  0.1091,  0.0986, -0.2371,  0.0289],\n",
       "        [ 1.1897,  0.6502,  1.6978, -0.1110,  0.3392, -0.0874, -0.2146, -0.4690],\n",
       "        [ 0.0042,  0.2478,  0.3331,  0.1709, -0.0614, -0.0354, -0.2909,  0.2898],\n",
       "        [ 0.4118,  0.4775,  0.8838,  0.1212,  0.0879, -0.1112, -0.4445,  0.1204],\n",
       "        [ 1.4148,  0.7967,  1.8738, -0.0911,  0.3175, -0.0663, -0.1451, -0.6126],\n",
       "        [ 1.4612,  0.8343,  2.0543, -0.0928,  0.3644, -0.1224, -0.3072, -0.5742],\n",
       "        [ 2.1347,  1.0681,  2.8298, -0.1245,  0.5632, -0.2226, -0.2369, -1.2041],\n",
       "        [ 1.7948,  0.8703,  2.4380, -0.1606,  0.4031, -0.0641, -0.1497, -0.8584],\n",
       "        [ 2.0566,  1.0964,  2.6688, -0.0750,  0.5776, -0.2708, -0.2735, -1.1937],\n",
       "        [ 1.3591,  0.8522,  1.9018, -0.0831,  0.2486, -0.0076, -0.1905, -0.5135],\n",
       "        [ 1.3935,  0.8024,  1.8954, -0.0070,  0.3751, -0.2051, -0.2408, -0.7505],\n",
       "        [ 0.1275,  0.3378,  0.5264,  0.1437, -0.0531, -0.0794, -0.2302,  0.1141],\n",
       "        [ 1.3591,  0.8522,  1.9018, -0.0831,  0.2486, -0.0076, -0.1905, -0.5135],\n",
       "        [ 2.1347,  1.0681,  2.8298, -0.1245,  0.5632, -0.2226, -0.2369, -1.2041],\n",
       "        [ 1.7948,  0.8703,  2.4380, -0.1606,  0.4031, -0.0641, -0.1497, -0.8584],\n",
       "        [ 0.5052,  0.3620,  0.9460,  0.0411,  0.1943, -0.1605, -0.2776, -0.1637],\n",
       "        [ 0.5052,  0.3620,  0.9460,  0.0411,  0.1943, -0.1605, -0.2776, -0.1637],\n",
       "        [ 0.5052,  0.3620,  0.9460,  0.0411,  0.1943, -0.1605, -0.2776, -0.1637],\n",
       "        [ 0.2297,  0.3199,  0.6789,  0.1340,  0.0627, -0.1942, -0.3470,  0.0534],\n",
       "        [ 0.2297,  0.3199,  0.6789,  0.1340,  0.0627, -0.1942, -0.3470,  0.0534],\n",
       "        [ 0.4852,  0.3842,  0.9015,  0.1157,  0.1158, -0.1841, -0.2260, -0.2204],\n",
       "        [ 0.4852,  0.3842,  0.9015,  0.1157,  0.1158, -0.1841, -0.2260, -0.2204],\n",
       "        [ 0.5633,  0.3559,  1.0626,  0.0662,  0.1014, -0.1359, -0.1894, -0.2308],\n",
       "        [ 0.4852,  0.3842,  0.9015,  0.1157,  0.1158, -0.1841, -0.2260, -0.2204],\n",
       "        [ 0.4852,  0.3842,  0.9015,  0.1157,  0.1158, -0.1841, -0.2260, -0.2204],\n",
       "        [ 0.5633,  0.3559,  1.0626,  0.0662,  0.1014, -0.1359, -0.1894, -0.2308],\n",
       "        [ 0.4852,  0.3842,  0.9015,  0.1157,  0.1158, -0.1841, -0.2260, -0.2204],\n",
       "        [ 0.4852,  0.3842,  0.9015,  0.1157,  0.1158, -0.1841, -0.2260, -0.2204],\n",
       "        [ 0.4852,  0.3842,  0.9015,  0.1157,  0.1158, -0.1841, -0.2260, -0.2204],\n",
       "        [ 0.4852,  0.3842,  0.9015,  0.1157,  0.1158, -0.1841, -0.2260, -0.2204],\n",
       "        [ 0.5633,  0.3559,  1.0626,  0.0662,  0.1014, -0.1359, -0.1894, -0.2308],\n",
       "        [ 0.4852,  0.3842,  0.9015,  0.1157,  0.1158, -0.1841, -0.2260, -0.2204],\n",
       "        [ 0.4852,  0.3842,  0.9015,  0.1157,  0.1158, -0.1841, -0.2260, -0.2204]],\n",
       "       grad_fn=<AddmmBackward>)"
      ]
     },
     "execution_count": 70,
     "metadata": {},
     "output_type": "execute_result"
    }
   ],
   "source": [
    "net(G, G.ndata['mol_ohe'].float())"
   ]
  },
  {
   "cell_type": "code",
   "execution_count": 80,
   "metadata": {},
   "outputs": [],
   "source": [
    "def collate(samples):\n",
    "    # The input `samples` is a list of pairs\n",
    "    #  (graph, label).\n",
    "    graphs, labels = map(list, zip(*samples))\n",
    "    batched_graph = dgl.batch(graphs)\n",
    "    return batched_graph, torch.cat(labels)\n",
    "\n",
    "data_loader = DataLoader(dataset, batch_size=32, shuffle=True,\n",
    "                         collate_fn=collate)"
   ]
  },
  {
   "cell_type": "code",
   "execution_count": 81,
   "metadata": {},
   "outputs": [],
   "source": [
    "def iter_epoch():\n",
    "    for iter, (bg, label) in enumerate(data_loader):\n",
    "        pass"
   ]
  },
  {
   "cell_type": "code",
   "execution_count": 82,
   "metadata": {},
   "outputs": [],
   "source": [
    "iter_epoch()"
   ]
  },
  {
   "cell_type": "code",
   "execution_count": 60,
   "metadata": {},
   "outputs": [
    {
     "name": "stdout",
     "output_type": "stream",
     "text": [
      "30.7 s ± 672 ms per loop (mean ± std. dev. of 7 runs, 1 loop each)\n"
     ]
    }
   ],
   "source": [
    "%timeit iter_epoch()"
   ]
  },
  {
   "cell_type": "code",
   "execution_count": 83,
   "metadata": {},
   "outputs": [],
   "source": [
    "i, (bg, label) = next(enumerate((data_loader)))"
   ]
  },
  {
   "cell_type": "code",
   "execution_count": 84,
   "metadata": {},
   "outputs": [
    {
     "data": {
      "text/plain": [
       "Graph(num_nodes=1365, num_edges=2800,\n",
       "      ndata_schemes={}\n",
       "      edata_schemes={})"
      ]
     },
     "execution_count": 84,
     "metadata": {},
     "output_type": "execute_result"
    }
   ],
   "source": []
  },
  {
   "cell_type": "code",
   "execution_count": 27,
   "metadata": {},
   "outputs": [
    {
     "data": {
      "text/plain": [
       "32"
      ]
     },
     "execution_count": 27,
     "metadata": {},
     "output_type": "execute_result"
    }
   ],
   "source": [
    "bg.batch_size"
   ]
  },
  {
   "cell_type": "code",
   "execution_count": 28,
   "metadata": {},
   "outputs": [
    {
     "data": {
      "text/plain": [
       "Graph(num_nodes=1373, num_edges=2784,\n",
       "      ndata_schemes={}\n",
       "      edata_schemes={})"
      ]
     },
     "execution_count": 28,
     "metadata": {},
     "output_type": "execute_result"
    }
   ],
   "source": [
    "bg"
   ]
  },
  {
   "cell_type": "code",
   "execution_count": 29,
   "metadata": {},
   "outputs": [
    {
     "data": {
      "text/plain": [
       "tensor([[2.0000, 2.0000, 2.0000],\n",
       "        [2.0588, 2.0588, 2.0588],\n",
       "        [1.8571, 1.8571, 1.8571],\n",
       "        [2.0000, 2.0000, 2.0000],\n",
       "        [1.9286, 1.9286, 1.9286],\n",
       "        [2.0000, 2.0000, 2.0000],\n",
       "        [2.0000, 2.0000, 2.0000],\n",
       "        [2.0000, 2.0000, 2.0000],\n",
       "        [2.0392, 2.0392, 2.0392],\n",
       "        [2.0000, 2.0000, 2.0000],\n",
       "        [2.0488, 2.0488, 2.0488],\n",
       "        [2.0000, 2.0000, 2.0000],\n",
       "        [2.0556, 2.0556, 2.0556],\n",
       "        [2.0741, 2.0741, 2.0741],\n",
       "        [2.0625, 2.0625, 2.0625],\n",
       "        [2.0000, 2.0000, 2.0000],\n",
       "        [2.0370, 2.0370, 2.0370],\n",
       "        [2.1053, 2.1053, 2.1053],\n",
       "        [2.0000, 2.0000, 2.0000],\n",
       "        [2.0392, 2.0392, 2.0392],\n",
       "        [2.0000, 2.0000, 2.0000],\n",
       "        [2.1200, 2.1200, 2.1200],\n",
       "        [2.0000, 2.0000, 2.0000],\n",
       "        [2.0952, 2.0952, 2.0952],\n",
       "        [2.0000, 2.0000, 2.0000],\n",
       "        [2.0571, 2.0571, 2.0571],\n",
       "        [2.0000, 2.0000, 2.0000],\n",
       "        [2.0000, 2.0000, 2.0000],\n",
       "        [2.0606, 2.0606, 2.0606],\n",
       "        [2.0392, 2.0392, 2.0392],\n",
       "        [2.0597, 2.0597, 2.0597],\n",
       "        [2.0000, 2.0000, 2.0000]])"
      ]
     },
     "execution_count": 29,
     "metadata": {},
     "output_type": "execute_result"
    }
   ],
   "source": [
    "h1 = bg.in_degrees().view(-1, 1).float()\n",
    "h3 = h2 = h1 \n",
    "h = torch.cat([h1, h2, h3], 1)\n",
    "bg.ndata['h'] = h\n",
    "dgl.mean_nodes(bg, 'h')"
   ]
  },
  {
   "cell_type": "code",
   "execution_count": 175,
   "metadata": {},
   "outputs": [
    {
     "data": {
      "text/plain": [
       "torch.Size([1304, 1])"
      ]
     },
     "execution_count": 175,
     "metadata": {},
     "output_type": "execute_result"
    }
   ],
   "source": [
    "h.shape"
   ]
  },
  {
   "cell_type": "code",
   "execution_count": null,
   "metadata": {},
   "outputs": [],
   "source": []
  },
  {
   "cell_type": "code",
   "execution_count": 96,
   "metadata": {},
   "outputs": [],
   "source": [
    "g = dataset[:4][0][3]"
   ]
  },
  {
   "cell_type": "code",
   "execution_count": 7,
   "metadata": {},
   "outputs": [],
   "source": [
    "# https://docs.dgl.ai/en/0.4.x/_modules/dgl/data/minigc.html#MiniGCDataset"
   ]
  },
  {
   "cell_type": "code",
   "execution_count": 97,
   "metadata": {},
   "outputs": [
    {
     "data": {
      "image/png": "[encoded data removed]",
      "text/plain": [
       "<Figure size 432x288 with 1 Axes>"
      ]
     },
     "metadata": {},
     "output_type": "display_data"
    }
   ],
   "source": [
    "nx.draw(g.to_networkx(), with_labels=True)"
   ]
  },
  {
   "cell_type": "code",
   "execution_count": null,
   "metadata": {},
   "outputs": [],
   "source": []
  }
 ],
 "metadata": {
  "kernelspec": {
   "display_name": "spectra-prediction-corm",
   "language": "python",
   "name": "spectra-prediction-corm"
  },
  "language_info": {
   "codemirror_mode": {
    "name": "ipython",
    "version": 3
   },
   "file_extension": ".py",
   "mimetype": "text/x-python",
   "name": "python",
   "nbconvert_exporter": "python",
   "pygments_lexer": "ipython3",
   "version": "3.8.6"
  }
 },
 "nbformat": 4,
 "nbformat_minor": 2
}
